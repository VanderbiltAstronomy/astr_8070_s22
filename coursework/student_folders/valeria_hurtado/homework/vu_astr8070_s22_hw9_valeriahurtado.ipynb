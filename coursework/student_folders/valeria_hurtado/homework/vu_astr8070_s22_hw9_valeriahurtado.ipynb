{
 "cells": [
  {
   "cell_type": "markdown",
   "metadata": {},
   "source": [
    "### ASTR 8070: Astrostatistics\n",
    "***S. R. Taylor***\n",
    "___\n",
    "\n",
    "# Homework 9\n",
    "### Due: Saturday, Apr 16th at 11.59pm CDT\n",
    "---\n",
    "\n",
    "The first two homework problems this week are very subjective, and necessarily deal with some randomization in your solutions. Do your best to fully catalog your tests, checks, and thought process as you answer. "
   ]
  },
  {
   "cell_type": "markdown",
   "metadata": {},
   "source": [
    "## Problem 1\n",
    "\n",
    "\n",
    "Go to the TensorFlow playground [here](https://playground.tensorflow.org/#activation=linear&regularization=L2&batchSize=10&dataset=xor&regDataset=reg-plane&learningRate=0.01&regularizationRate=0&noise=35&networkShape=1&seed=0.50246&showTestData=false&discretize=false&percTrainData=50&x=true&y=true&xTimesY=false&xSquared=false&ySquared=false&cosX=false&sinX=false&cosY=false&sinY=false&collectStats=false&problem=classification&initZero=false&hideText=false). You will play with the tensorflow neural network architecture there, and come back to answer the questions here.\n",
    "\n",
    "\n",
    "1. The model as given combines two input features into a single neuron with a linear activation of form $f(x) = x$. Write down an equation that algebraically describes the output of this network, in terms of the synapse weights, the neuron bias, and the input data. Based on your equation, will this model learn any nonlinearities? Run the network to confirm your guess.\n",
    "\n",
    "\n",
    "2. Try increasing the number of neurons in the hidden layer from 1 to 2, and also try changing from a Linear activation to a nonlinear activation like ReLU. Can you create a model that can learn nonlinearities? Can it model the data effectively? Check through multiple re-runs. *Note that you can hover over the neurons to see which features they are identifying.*\n",
    "\n",
    "\n",
    "3. Try increasing the number of neurons in the hidden layer from 2 to 3, using a nonlinear activation like ReLU. Can it model the data effectively? How does model quality vary from run to run?\n",
    "\n",
    "\n",
    "4. Continue experimenting by adding or removing hidden layers and neurons per layer. Also feel free to change learning rates, regularization, and other learning settings. What is the smallest number of neurons and layers you can use that gives test loss of 0.177 or lower?\n",
    "\n",
    "\n",
    "5. Does increasing the model size improve the fit, or how quickly it converges? Does this change how often it converges to a good model? For example, try the following architecture:\n",
    "\n",
    "- First hidden layer with 3 neurons.\n",
    "- Second hidden layer with 3 neurons.\n",
    "- Third hidden layer with 2 neurons."
   ]
  },
  {
   "cell_type": "markdown",
   "metadata": {},
   "source": [
    "# Solution"
   ]
  },
  {
   "cell_type": "markdown",
   "metadata": {},
   "source": [
    "### 1) The model as given combines two input features into a single neuron with a linear activation of form 𝑓(𝑥)=𝑥. Write down an equation that algebraically describes the output of this network, in terms of the synapse weights, the neuron bias, and the input data. Based on your equation, will this model learn any nonlinearities? Run the network to confirm your guess."
   ]
  },
  {
   "cell_type": "markdown",
   "metadata": {},
   "source": [
    "Two features with different weights and biased get passed onto neuron\n",
    "$X = x_1 w_{1,1} + x_2 w_{1,2} + b_1$\n",
    "\n",
    "Linear activation function\n",
    "$f(x) = X$\n",
    "\n",
    "Passing through neuron, activation form is multiplied by second weight:\n",
    "neuron -> $f(x)*w_2$ \n",
    "\n",
    "Output: $y = (x_1 w_{1,1} + x_2 w_{1,2} + b1)*{w_2,1}$ \n",
    "\n",
    "It won't be able to learn any nonlinearities since we're using a linear activation form"
   ]
  },
  {
   "cell_type": "markdown",
   "metadata": {},
   "source": [
    "SRT: Almost! What about the bias for the output neuron? -1"
   ]
  },
  {
   "cell_type": "markdown",
   "metadata": {},
   "source": [
    "### 2) Try increasing the number of neurons in the hidden layer from 1 to 2, and also try changing from a Linear activation to a nonlinear activation like ReLU. Can you create a model that can learn nonlinearities? Can it model the data effectively? Check through multiple re-runs. Note that you can hover over the neurons to see which features they are identifying."
   ]
  },
  {
   "cell_type": "markdown",
   "metadata": {},
   "source": [
    " yes it can learn non-linearities! It is learning and fitting the data better\n",
    " \n",
    "yes it does a better job, although not always (tried like 4 times until it got it right)"
   ]
  },
  {
   "cell_type": "markdown",
   "metadata": {},
   "source": [
    "### 3) Try increasing the number of neurons in the hidden layer from 2 to 3, using a nonlinear activation like ReLU. Can it model the data effectively? How does model quality vary from run to run?"
   ]
  },
  {
   "cell_type": "markdown",
   "metadata": {},
   "source": [
    "It can model the data effectively, although not always. It can model the data better than when using only 2 neurons in the hidden layer and takes less amount of tries\n",
    "\n",
    "\n",
    "The quality run to run : doesn't seem to be a pattern or change as much - seems more like a random process"
   ]
  },
  {
   "cell_type": "markdown",
   "metadata": {},
   "source": [
    "SRT: Good commentary here, Valeria."
   ]
  },
  {
   "cell_type": "markdown",
   "metadata": {},
   "source": [
    "### 4) Continue experimenting by adding or removing hidden layers and neurons per layer. Also feel free to change learning rates, regularization, and other learning settings. What is the smallest number of neurons and layers you can use that gives test loss of 0.177 or lower?"
   ]
  },
  {
   "cell_type": "markdown",
   "metadata": {},
   "source": [
    "The best results I get using the least amount of layers and neurons is test loss: 0.156 with 3 neurons and one hidden layer with regularization: 0.001 and and learning rate: 0.001"
   ]
  },
  {
   "cell_type": "markdown",
   "metadata": {},
   "source": [
    "SRT: Excellent!"
   ]
  },
  {
   "cell_type": "markdown",
   "metadata": {},
   "source": [
    "### 5) Does increasing the model size improve the fit, or how quickly it converges? Does this change how often it converges to a good model? For example, try the following architecture:\n",
    "\n",
    "### -     First hidden layer with 3 neurons.\n",
    "### -    Second hidden layer with 3 neurons.\n",
    "### -    Third hidden layer with 2 neurons."
   ]
  },
  {
   "cell_type": "markdown",
   "metadata": {},
   "source": [
    "- Test loss: 0.156 with 3 neurons and one hidden layer with regularization: 0.001 and and learning rate: 0.001\n",
    "\n",
    "- With a second hidden layer with 3 neurons, obtain very similar results. regularization: 0.001 and and learning rate: 0.001 and test loss: 0.164\n",
    "\n",
    "- With third hidden layer with 2 neurons has much more problems improving the fit and test loss is much higher on the first run. Did a second run and obtained very similar results with 2nd layer"
   ]
  },
  {
   "cell_type": "markdown",
   "metadata": {},
   "source": [
    "## Problem 2\n",
    "\n",
    "\n",
    "[This](https://playground.tensorflow.org/#activation=relu&regularization=L2&batchSize=10&dataset=spiral&regDataset=reg-plane&learningRate=0.1&regularizationRate=0.01&noise=50&networkShape=3,2&seed=0.65406&showTestData=false&discretize=false&percTrainData=50&x=true&y=true&xTimesY=false&xSquared=false&ySquared=false&cosX=false&sinX=false&cosY=false&sinY=false&collectStats=false&problem=classification&initZero=false&hideText=false) data set is a noisy spiral. Obviously, a linear model will fail here, but even manually defined feature combinations may be hard to construct.\n",
    "\n",
    "1. Train the best model you can, using just X1 and X2. Add or remove layers and neurons as you see fit, change learning settings like learning rate, regularization rate, and batch size. What is the best test loss you can get? How smooth is the model output surface?\n",
    "\n",
    "\n",
    "2. Even with Neural Nets, some amount of feature engineering is often needed to achieve best performance. Try adding in additional cross product features or other transformations like sin(X1) and sin(X2). Do you get a better model? Is the model output surface any smoother?"
   ]
  },
  {
   "cell_type": "markdown",
   "metadata": {},
   "source": [
    "# Solution"
   ]
  },
  {
   "cell_type": "markdown",
   "metadata": {},
   "source": [
    "### 1) Train the best model you can, using just X1 and X2. Add or remove layers and neurons as you see fit, change learning settings like learning rate, regularization rate, and batch size. What is the best test loss you can get? How smooth is the model output surface?"
   ]
  },
  {
   "cell_type": "markdown",
   "metadata": {},
   "source": [
    "Increasing hidden layers and/or neurons didn't improve much or made the fit worse. In the end, the lowest test loss I obtained was 0.490 using batch size=15, regularization rate=0.01, learning rate=0.03 and 2 neurons in 2 hidden layers (each). The output was smooth but it wasn't very accurate (no spiral-like shape)."
   ]
  },
  {
   "cell_type": "markdown",
   "metadata": {},
   "source": [
    "SRT: This one is a little tricky, and does take a while to converge. Several minutes at least, and a lot of exploration of the tuning parameters. The lowest test loss I have seen is <0.08, so I'm surprised that you did not find anything lower than 0.5. Slight deducation because it would have been nice to see some screenshots of your trained network. -1"
   ]
  },
  {
   "cell_type": "markdown",
   "metadata": {},
   "source": [
    "### 2) Even with Neural Nets, some amount of feature engineering is often needed to achieve best performance. Try adding in additional cross product features or other transformations like sin(X1) and sin(X2). Do you get a better model? Is the model output surface any smoother?"
   ]
  },
  {
   "cell_type": "markdown",
   "metadata": {},
   "source": [
    "trial 1: all features\n",
    "\n",
    "I added 3 neurons on the first 2 hidden layers and on the third hidden layer added 2 neurons. Learning rate=0.03 and regularization rate=0.01, batch size=15. I also added X12, X22, X1X2, sin(x1) and sin(x2) with this I obtained a test loss=0.215. There is a much better fit than before (although not perfect still). Over time, the output isn't that smooth but it is getting a spiral-like shape \n",
    "\n",
    "\n",
    "\n",
    "trial 2: less features\n",
    "\n",
    "I added 3 neurons on the first 2 hidden layers and on the third hidden layer added 2 neurons. Learning rate=0.03 and egularization rate=0.01, batch size=15. This time I only used X1, X2, X1X2, sin(x1) with this I obtained a test loss=0.375. The fit is okay (although not perfect still). Over time, the output isn't that smooth but it is getting a spiral-like shape "
   ]
  },
  {
   "cell_type": "markdown",
   "metadata": {},
   "source": [
    "SRT: Good that you're getting the spiral."
   ]
  },
  {
   "cell_type": "markdown",
   "metadata": {},
   "source": [
    "## Problem 3\n",
    "\n",
    "The first few steps of this problem are the same as last week's homework.\n",
    "\n",
    "\n",
    "1. Read in the same galaxy color data as used in Homework 8. Slice the data array to only take every other $10$th row. From this reduced data volume, create arrays of $(u-g)$, $(g-r)$, $(r-i)$, and $(i-z)$ colors. Also create arrays of redshift and the spectral class. \n",
    "\n",
    "\n",
    "2. We're going to make classification pretty tough for our deep neural network. Make a scatter plot of $(r-i)$ versus $(i-z)$, color coding by galaxy or quasar class. Notice how much more difficult the visual discrimination is compared to $(u-g)$ versus $(g-r)$. The plot should include appropriate axis labels and a legend.\n",
    "\n",
    "\n",
    "3. Stack the $(r-i)$ and $(i-z)$ colors into a data matrix, $X$. Create a target label array that has $0$ for a regular galaxy and $1$ for a quasar. Perform a train-test split, taking $20\\%$ of the data for testing. Set the `random_state` in your train-test split to be `42` for reproducibility (and easy comparison with my solutions).\n",
    "\n",
    "\n",
    "4. Scale your training and testing data to prepare it for the DNN. \n",
    "\n",
    "\n",
    "5. Train scikit-learn's multi-layer perceptron classifier with ReLU activation, stochastic gradient descent, two hidden layers of respective sizes of $5$ and $2$, and using `max_iter=1000`, and `random_state=42`. As with classifiers in last week's homework, plot an ROC curve that shows the network's performance on the scaled testing data. \n",
    "\n",
    "\n",
    "6. Now let's optimize the hyperparameters of your network. You will use `GridSearchCV` with the following hyperparameters for the network:\n",
    "\n",
    "```\n",
    "parameters = {'solver': ['lbfgs', 'sgd', 'adam'], \n",
    "              'hidden_layer_sizes': [(2,2), (5,5), (5,2), (5,5,5)], \n",
    "              'activation': ['relu', 'tanh'], \n",
    "              'random_state': [42], 'max_iter': [1000]}\n",
    "```\n",
    "\n",
    "Remember that you can utilize all availables cores on your machine with `n_jobs=-1`. Print out the classification score for the training data, and the best parameters obtained by the cross validation.\n",
    "\n",
    "\n",
    "7. Fit a new DNN using the best hyperparameters obtained in (6), and make a plot that has ROC curves for this new network and your original network. Let the x and y axes have the full limit range of 0 to 1. Voila!"
   ]
  },
  {
   "cell_type": "markdown",
   "metadata": {},
   "source": [
    "# Solution"
   ]
  },
  {
   "cell_type": "code",
   "execution_count": 16,
   "metadata": {},
   "outputs": [
    {
     "name": "stdout",
     "output_type": "stream",
     "text": [
      "('u', 'g', 'r', 'i', 'z', 'specClass', 'redshift', 'redshift_err')\n",
      "number of quasars = 736\n",
      "number of galaxies = 4264\n"
     ]
    }
   ],
   "source": [
    "#1) Read in the same galaxy color data as used in Homework 8. Slice the data array to only take every other 10th\n",
    "#row. From this reduced data volume, create arrays of (𝑢−𝑔), (𝑔−𝑟), (𝑟−𝑖), and (𝑖−𝑧) colors. Also create arrays of\n",
    "#redshift and the spectral class.\n",
    "\n",
    "from astroML.datasets import fetch_sdss_galaxy_colors\n",
    "import numpy as np\n",
    "\n",
    "#Reading in SDSS data\n",
    "data = np.load('../../../../coursework/homeworks/hw_data/hw8_data_1.npy') #reading data\n",
    "data = data[::10] #reduced data: every other 10th row \n",
    "#print(np.shape(data))\n",
    "\n",
    "#Printing data column names\n",
    "print(data.dtype.names)\n",
    "\n",
    "#Arrays of bands\n",
    "u = data['u']\n",
    "g = data['g']\n",
    "r = data['r']\n",
    "i = data['i']\n",
    "z = data['z']\n",
    "\n",
    "#Array of redshift & errors, and special class\n",
    "QorG = data['specClass']\n",
    "red = data['redshift']\n",
    "red_err = data['redshift_err']\n",
    "\n",
    "#Array of colors\n",
    "u_g = u - g\n",
    "g_r = g - r\n",
    "r_i = r - i\n",
    "i_z = i - z\n",
    "\n",
    "#index for galaxies and quasars\n",
    "qso_id = np.where(QorG == 'QSO')\n",
    "qso_id = qso_id[0]\n",
    "gal_id = np.where(QorG == 'GALAXY')\n",
    "gal_id = gal_id[0]\n",
    "\n",
    "print('number of quasars =',len(data[qso_id]))\n",
    "print('number of galaxies =',len(data[gal_id]))\n",
    "\n",
    "#Making array of all objects of either quasars or galaxies\n",
    "new_QorG = np.zeros_like(QorG)\n",
    "new_QorG[qso_id] = QorG[qso_id]\n",
    "new_QorG[gal_id] = QorG[gal_id]\n",
    "\n",
    "#Making y label array of 0s and 1s corresponding to galaxy = 0 and quasar = 1\n",
    "y = []\n",
    "\n",
    "for i in range(len(new_QorG)):\n",
    "    if new_QorG[i] == 'QSO':\n",
    "        y.append(1)\n",
    "    if new_QorG[i] == 'GALAXY':\n",
    "        y.append(0)"
   ]
  },
  {
   "cell_type": "code",
   "execution_count": 44,
   "metadata": {},
   "outputs": [
    {
     "data": {
      "text/plain": [
       "<matplotlib.legend.Legend at 0x7f61c191ff70>"
      ]
     },
     "execution_count": 44,
     "metadata": {},
     "output_type": "execute_result"
    },
    {
     "data": {
      "image/png": "[encoded data removed]",
      "text/plain": [
       "<Figure size 432x288 with 1 Axes>"
      ]
     },
     "metadata": {
      "needs_background": "light"
     },
     "output_type": "display_data"
    }
   ],
   "source": [
    "#2) We're going to make classification pretty tough for our deep neural network. Make a scatter plot of (𝑟−𝑖) \n",
    "#versus (𝑖−𝑧), color coding by galaxy or quasar class. Notice how much more difficult the visual discrimination \n",
    "#is compared to (𝑢−𝑔) versus (𝑔−𝑟). The plot should include appropriate axis labels and a legend.\n",
    "\n",
    "import matplotlib.pyplot as plt\n",
    "\n",
    "plt.scatter(r_i,i_z,c=y,label='quasar')\n",
    "plt.xlim(-2,2.5)\n",
    "plt.ylim(-1,1)\n",
    "plt.ylabel('i - z')\n",
    "plt.xlabel('r - i')\n",
    "plt.legend()"
   ]
  },
  {
   "cell_type": "code",
   "execution_count": 27,
   "metadata": {},
   "outputs": [],
   "source": [
    "#3) Stack the (𝑟−𝑖) and (𝑖−𝑧) colors into a data matrix, 𝑋. Create a target label array that has 0 for a regular \n",
    "#galaxy and 1 for a quasar. Perform a train-test split, taking 20% of the data for testing. Set the random_state\n",
    "#in your train-test split to be 42 for reproducibility (and easy comparison with my solutions).\n",
    "\n",
    "from sklearn.model_selection import train_test_split\n",
    "\n",
    "X = np.stack ((r_i, i_z))\n",
    "X = np.transpose(X) #making it in a shape that sklearn can use\n",
    "\n",
    "#Train-test split -> test size = 20%\n",
    "X_train, X_test, y_train, y_test = train_test_split(X, y, test_size=0.2, random_state=42)\n",
    "#print(np.shape(y_test)) "
   ]
  },
  {
   "cell_type": "code",
   "execution_count": 30,
   "metadata": {},
   "outputs": [],
   "source": [
    "#4) Scale your training and testing data to prepare it for the DNN. \n",
    "\n",
    "from sklearn import preprocessing\n",
    "\n",
    "Xtrain_scaled = preprocessing.scale(X_train)\n",
    "Xtest_scaled = preprocessing.scale(X_test)\n",
    "Xscaled = preprocessing.scale(X)"
   ]
  },
  {
   "cell_type": "code",
   "execution_count": 34,
   "metadata": {},
   "outputs": [
    {
     "name": "stdout",
     "output_type": "stream",
     "text": [
      "[(2, 5), (5, 2), (2, 1)]\n"
     ]
    }
   ],
   "source": [
    "#5) Train scikit-learn's multi-layer perceptron classifier with ReLU activation, stochastic gradient descent, \n",
    "#two hidden layers of respective sizes of 5 and 2, and using max_iter=1000, and random_state=42. As with \n",
    "#classifiers in last week's homework, plot an ROC curve that shows the network's performance on the scaled \n",
    "#testing data. \n",
    "\n",
    "from sklearn.neural_network import MLPRegressor\n",
    "\n",
    "clf = MLPRegressor(solver='sgd', activation='relu', \n",
    "                   hidden_layer_sizes=(5,2), \n",
    "                   random_state=42, max_iter=1000)\n",
    "\n",
    "clf.fit(Xtrain_scaled, y_train)\n",
    "\n",
    "# Look at the weights\n",
    "print([coef.shape for coef in clf.coefs_])\n",
    "\n",
    "ypred = clf.predict(Xtest_scaled)"
   ]
  },
  {
   "cell_type": "code",
   "execution_count": 37,
   "metadata": {},
   "outputs": [
    {
     "data": {
      "text/plain": [
       "Text(0, 0.5, 'true positive rate')"
      ]
     },
     "execution_count": 37,
     "metadata": {},
     "output_type": "execute_result"
    },
    {
     "data": {
      "image/png": "[encoded data removed]",
      "text/plain": [
       "<Figure size 432x288 with 1 Axes>"
      ]
     },
     "metadata": {
      "needs_background": "light"
     },
     "output_type": "display_data"
    }
   ],
   "source": [
    "from sklearn.metrics import roc_curve\n",
    "\n",
    "fpr, tpr, thresh = roc_curve(y_test, ypred)\n",
    "\n",
    "plt.plot(fpr,tpr)\n",
    "plt.xlabel('false positive rate')\n",
    "plt.ylabel('true positive rate')"
   ]
  },
  {
   "cell_type": "code",
   "execution_count": 47,
   "metadata": {},
   "outputs": [
    {
     "name": "stdout",
     "output_type": "stream",
     "text": [
      "best parameters = {'activation': 'tanh', 'hidden_layer_sizes': (5, 5), 'max_iter': 1000, 'random_state': 42, 'solver': 'lbfgs'}\n",
      "score = 0.5938811543968697\n"
     ]
    }
   ],
   "source": [
    "#6) Now let's optimize the hyperparameters of your network. You will use GridSearchCV with the following \n",
    "#hyperparameters for the network:\n",
    "\n",
    "from sklearn.model_selection import GridSearchCV\n",
    "\n",
    "parameters = {'solver': ['lbfgs', 'sgd', 'adam'], \n",
    "               'hidden_layer_sizes': [(2,2), (5,5), (5,2), (5,5,5)], \n",
    "               'activation': ['relu', 'tanh'], \n",
    "               'random_state': [42], 'max_iter': [1000]}\n",
    "\n",
    "#Remember that you can utilize all availables cores on your machine with n_jobs=-1. Print out the classification\n",
    "#score for the training data, and the best parameters obtained by the cross validation.\n",
    "\n",
    "mpl = MLPRegressor()\n",
    "grid = GridSearchCV(mpl,parameters,n_jobs=-1) #Cross-Validation\n",
    "grid.fit(Xtrain_scaled, y_train) #Fitting data\n",
    "best_opt = grid.best_params_ #Best solver from ridge parameters grid\n",
    "score = grid.best_score_ #Score of the best hyper-parameters used\n",
    "\n",
    "#Print statements for alpha, solver and score\n",
    "print('best parameters =', best_opt)\n",
    "print('score =',score)"
   ]
  },
  {
   "cell_type": "markdown",
   "metadata": {},
   "source": [
    "SRT: It's odd that the score for these hyper-parameters is not better."
   ]
  },
  {
   "cell_type": "code",
   "execution_count": 52,
   "metadata": {},
   "outputs": [
    {
     "data": {
      "text/plain": [
       "<matplotlib.legend.Legend at 0x7f61b1eccf70>"
      ]
     },
     "execution_count": 52,
     "metadata": {},
     "output_type": "execute_result"
    },
    {
     "data": {
      "image/png": "[encoded data removed]",
      "text/plain": [
       "<Figure size 432x288 with 1 Axes>"
      ]
     },
     "metadata": {
      "needs_background": "light"
     },
     "output_type": "display_data"
    }
   ],
   "source": [
    "#7) Fit a new DNN using the best hyperparameters obtained in (6), and make a plot that has ROC curves for this \n",
    "#new network and your original network. Let the x and y axes have the full limit range of 0 to 1. Voila!\n",
    "\n",
    "mlp_best = MLPRegressor(solver='lbfgs', activation='tanh', \n",
    "                   hidden_layer_sizes=(5,5), \n",
    "                   random_state=42, max_iter=1000)\n",
    "\n",
    "mlp_best.fit(Xtrain_scaled, y_train)\n",
    "ypred2 = mlp_best.predict(Xtest_scaled)\n",
    "\n",
    "fpr2, tpr2, thresh2 = roc_curve(y_test, ypred2)\n",
    "\n",
    "plt.plot(fpr,tpr,label='original')\n",
    "plt.plot(fpr2,tpr2,label='new network')\n",
    "plt.xlabel('false positive rate')\n",
    "plt.ylabel('true positive rate')\n",
    "plt.legend()"
   ]
  },
  {
   "cell_type": "markdown",
   "metadata": {},
   "source": [
    "Voila!"
   ]
  },
  {
   "cell_type": "code",
   "execution_count": null,
   "metadata": {},
   "outputs": [],
   "source": []
  }
 ],
 "metadata": {
  "anaconda-cloud": {},
  "kernelspec": {
   "display_name": "Python 3",
   "language": "python",
   "name": "python3"
  },
  "language_info": {
   "codemirror_mode": {
    "name": "ipython",
    "version": 3
   },
   "file_extension": ".py",
   "mimetype": "text/x-python",
   "name": "python",
   "nbconvert_exporter": "python",
   "pygments_lexer": "ipython3",
   "version": "3.8.5"
  }
 },
 "nbformat": 4,
 "nbformat_minor": 2
}
